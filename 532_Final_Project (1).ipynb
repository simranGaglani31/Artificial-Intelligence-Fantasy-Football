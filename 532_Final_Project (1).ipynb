{
  "nbformat": 4,
  "nbformat_minor": 0,
  "metadata": {
    "colab": {
      "name": "532_Final_Project.ipynb",
      "provenance": [],
      "collapsed_sections": []
    },
    "kernelspec": {
      "name": "python3",
      "display_name": "Python 3"
    },
    "language_info": {
      "name": "python"
    }
  },
  "cells": [
    {
      "cell_type": "code",
      "execution_count": 1,
      "metadata": {
        "colab": {
          "base_uri": "https://localhost:8080/"
        },
        "id": "PRvBs1Vxosqb",
        "outputId": "e69d5224-8e50-4f1c-c716-1d0fe2ba5019"
      },
      "outputs": [
        {
          "output_type": "stream",
          "name": "stdout",
          "text": [
            "Requirement already satisfied: pandas in /usr/local/lib/python3.7/dist-packages (1.1.5)\n",
            "Requirement already satisfied: numpy>=1.15.4 in /usr/local/lib/python3.7/dist-packages (from pandas) (1.19.5)\n",
            "Requirement already satisfied: python-dateutil>=2.7.3 in /usr/local/lib/python3.7/dist-packages (from pandas) (2.8.2)\n",
            "Requirement already satisfied: pytz>=2017.2 in /usr/local/lib/python3.7/dist-packages (from pandas) (2018.9)\n",
            "Requirement already satisfied: six>=1.5 in /usr/local/lib/python3.7/dist-packages (from python-dateutil>=2.7.3->pandas) (1.15.0)\n",
            "Requirement already satisfied: ortools in /usr/local/lib/python3.7/dist-packages (9.1.9490)\n",
            "Requirement already satisfied: absl-py>=0.13 in /usr/local/lib/python3.7/dist-packages (from ortools) (1.0.0)\n",
            "Requirement already satisfied: protobuf>=3.18.0 in /usr/local/lib/python3.7/dist-packages (from ortools) (3.19.1)\n",
            "Requirement already satisfied: six in /usr/local/lib/python3.7/dist-packages (from absl-py>=0.13->ortools) (1.15.0)\n"
          ]
        }
      ],
      "source": [
        "!pip install pandas\n",
        "!pip install ortools\n",
        "from ortools.linear_solver import pywraplp\n",
        "\n",
        "# divide points by price points/price - linear prgram finds the best value players and may choose the player with lless points but higher value "
      ]
    },
    {
      "cell_type": "code",
      "source": [
        "import pandas as pd\n",
        "\n",
        "from google.colab import files\n",
        "\n",
        "df = pd.read_csv('fantasy_football.csv')\n",
        "print (df)"
      ],
      "metadata": {
        "colab": {
          "base_uri": "https://localhost:8080/"
        },
        "id": "q6Neg3UxLr9X",
        "outputId": "27316c2e-3b9f-4c91-bbd1-90e1057bbabb"
      },
      "execution_count": 30,
      "outputs": [
        {
          "output_type": "stream",
          "name": "stdout",
          "text": [
            "                    Name Position Team  ProjectedPoints  Price\n",
            "0          Aaron Rodgers       QB  GBP            333.5   51.2\n",
            "1              Tom Brady       QB  NEP            312.1   38.3\n",
            "2             Drew Brees       QB  NOS            306.2   36.3\n",
            "3              Matt Ryan       QB  ATL            294.3   29.2\n",
            "4         Russell Wilson       QB  SEA            287.9   25.8\n",
            "..                   ...      ...  ...              ...    ...\n",
            "947        Chicago Bears      DEF  CHI             90.2    1.0\n",
            "948  San Francisco 49ers      DEF  SFO             89.3    1.0\n",
            "949   New Orleans Saints      DEF  NOS             89.2    1.0\n",
            "950        New York Jets      DEF  NYJ             87.0    1.0\n",
            "951     Cleveland Browns      DEF  CLE             86.3    1.0\n",
            "\n",
            "[952 rows x 5 columns]\n"
          ]
        }
      ]
    },
    {
      "cell_type": "code",
      "source": [
        "solver = pywraplp.Solver.CreateSolver(\"SCIP\")"
      ],
      "metadata": {
        "id": "mebeUPLUpAn4"
      },
      "execution_count": 31,
      "outputs": []
    },
    {
      "cell_type": "code",
      "source": [
        "# create dataframesfor each position \n",
        "QB = df.loc[df.Position=='QB'].reset_index()\n",
        "WR = df.loc[df.Position=='WR'].reset_index()\n",
        "RB = df.loc[df.Position=='RB'].reset_index()\n",
        "TE = df.loc[df.Position=='TE'].reset_index()\n",
        "K = df.loc[df.Position=='K'].reset_index()\n",
        "DEF = df.loc[df.Position=='DEF'] .reset_index()"
      ],
      "metadata": {
        "id": "cScYaXfIp0tb"
      },
      "execution_count": 32,
      "outputs": []
    },
    {
      "cell_type": "code",
      "source": [
        "QB_dummy = [[],[]]\n",
        "WR_dummy = [[],[],[],[]]\n",
        "RB_dummy = [[],[],[]]\n",
        "TE_dummy = [[],[]]\n",
        "K_dummy = [[],[]]\n",
        "DEF_dummy = [[],[]]"
      ],
      "metadata": {
        "id": "99qHFeswqtuY"
      },
      "execution_count": 33,
      "outputs": []
    },
    {
      "cell_type": "code",
      "source": [
        "for index,row in df.iterrows():\n",
        "  if row['Position'] == 'QB':\n",
        "    for i in range(len(QB_dummy)):\n",
        "      QB_dummy[i].append(solver.IntVar(0,1, row['Name'] + str(i)))\n",
        "  if row['Position'] == 'WR':\n",
        "    for i in range(len(WR_dummy)):\n",
        "      WR_dummy[i].append(solver.IntVar(0,1, row['Name'] + str(i)))\n",
        "  if row['Position'] == 'RB':\n",
        "    for i in range(len(RB_dummy)):\n",
        "      RB_dummy[i].append(solver.IntVar(0,1, row['Name'] + str(i)))\n",
        "  if row['Position'] == 'TE':\n",
        "    for i in range(len(TE_dummy)):\n",
        "      TE_dummy[i].append(solver.IntVar(0,1, row['Name'] + str(i)))\n",
        "  if row['Position'] == 'K':\n",
        "    for i in range(len(K_dummy)):\n",
        "      K_dummy[i].append(solver.IntVar(0,1, row['Name'] + str(i)))\n",
        "  if row['Position'] == 'DEF':\n",
        "    for i in range(len(DEF_dummy)):\n",
        "      DEF_dummy[i].append(solver.IntVar(0,1, row['Name'] + str(i)))\n",
        "\n",
        "      \n"
      ],
      "metadata": {
        "id": "kOfNmCoKsqLk"
      },
      "execution_count": 34,
      "outputs": []
    },
    {
      "cell_type": "code",
      "source": [
        "# what starting roser is going to give us the most points \n",
        "solver.Maximize(sum(QB_dummy[0][i]*QB.at[i, 'ProjectedPoints'] for i in range(len(QB)))+\n",
        "                sum(WR_dummy[0][i]*WR.at[i, 'ProjectedPoints'] for i in range(len(WR)))+\n",
        "                sum(RB_dummy[0][i]*RB.at[i, 'ProjectedPoints'] for i in range(len(RB)))+\n",
        "                sum(TE_dummy[0][i]*TE.at[i, 'ProjectedPoints'] for i in range(len(TE)))+\n",
        "                sum(K_dummy[0][i]*K.at[i, 'ProjectedPoints'] for i in range(len(K)))+\n",
        "                sum(DEF_dummy[0][i]*DEF.at[i, 'ProjectedPoints'] for i in range(len(DEF)))+\n",
        "                sum(WR_dummy[1][i]*WR.at[i, 'ProjectedPoints'] for i in range(len(WR)))+\n",
        "                sum(WR_dummy[2][i]*WR.at[i, 'ProjectedPoints'] for i in range(len(WR)))+\n",
        "                sum(RB_dummy[1][i]*RB.at[i, 'ProjectedPoints'] for i in range(len(RB)))+\n",
        "                sum(.5*QB_dummy[1][i]*QB.at[i, 'ProjectedPoints'] for i in range(len(QB)))+\n",
        "                sum(.5*WR_dummy[3][i]*WR.at[i, 'ProjectedPoints'] for i in range(len(WR)))+\n",
        "                sum(.5*RB_dummy[2][i]*RB.at[i, 'ProjectedPoints'] for i in range(len(RB)))+\n",
        "                sum(.5*TE_dummy[1][i]*TE.at[i, 'ProjectedPoints'] for i in range(len(TE)))+\n",
        "                sum(.5*K_dummy[1][i]*K.at[i, 'ProjectedPoints'] for i in range(len(K)))+\n",
        "                sum(.5*DEF_dummy[1][i]*DEF.at[i, 'ProjectedPoints'] for i in range(len(DEF))))\n",
        "\n"
      ],
      "metadata": {
        "id": "6kSMSCbqwObw"
      },
      "execution_count": 35,
      "outputs": []
    },
    {
      "cell_type": "code",
      "source": [
        "# do this same thing for TE, K, DEF \n",
        "solver.Add(sum(QB_dummy[0][i] for i in range(len(QB_dummy[0])))+sum(QB_dummy[1][i] for i in range(len(QB_dummy[1])))<=2)#max number of qbs allowed on roster.\n",
        "solver.Add(sum(TE_dummy[0][i] for i in range(len(TE_dummy[0])))+sum(TE_dummy[1][i] for i in range(len(TE_dummy[1])))<=2)\n",
        "\n",
        "solver.Add(sum(K_dummy[0][i] for i in range(len(K_dummy[0])))+sum(K_dummy[1][i] for i in range(len(K_dummy[1])))<=1)\n",
        "solver.Add(sum(DEF_dummy[0][i] for i in range(len(DEF_dummy[0])))+sum(DEF_dummy[1][i] for i in range(len(DEF_dummy[1])))<=1)\n",
        "\n",
        "#for wr sum up all four dummy lksts in wr= <4\n",
        "solver.Add(sum(WR_dummy[0][i] for i in range(len(WR_dummy[0])))+\n",
        "               sum(WR_dummy[1][i] for i in range(len(WR_dummy[1])))+\n",
        "                   sum(WR_dummy[2][i] for i in range(len(WR_dummy[2])))+\n",
        "                       sum(WR_dummy[3][i] for i in range(len(WR_dummy[3])))<=8)\n",
        "\n",
        "#for rb sum up all 3 dummy lksts <= 3\n",
        "solver.Add(sum(RB_dummy[0][i] for i in range(len(RB_dummy[0])))+\n",
        "               sum(RB_dummy[1][i] for i in range(len(RB_dummy[1])))+\n",
        "                  sum(RB_dummy[2][i] for i in range(len(RB_dummy[2])))<=8)\n",
        "\n",
        "\n",
        "#Must have a starting QB - for all of the ones that do not hav a .5 \n",
        "solver.Add(sum(QB_dummy[0][i] for i in range(len(QB_dummy[0])))==1)\n",
        "\n",
        "solver.Add(sum(WR_dummy[0][i] for i in range(len(WR_dummy[0])))==1)\n",
        "solver.Add(sum(WR_dummy[1][i] for i in range(len(WR_dummy[1])))==1)\n",
        "solver.Add(sum(WR_dummy[2][i] for i in range(len(WR_dummy[2])))==1)\n",
        "\n",
        "solver.Add(sum(RB_dummy[0][i] for i in range(len(RB_dummy[0])))==1)\n",
        "solver.Add(sum(RB_dummy[1][i] for i in range(len(RB_dummy[1])))==1)       \n",
        "\n",
        "solver.Add(sum(TE_dummy[0][i] for i in range(len(TE_dummy[0])))==1)\n",
        "solver.Add(sum(TE_dummy[1][i] for i in range(len(TE_dummy[0])))==1)\n",
        "\n",
        "solver.Add(sum(K_dummy[0][i] for i in range(len(K_dummy[0])))==1)\n",
        "solver.Add(sum(DEF_dummy[0][i] for i in range(len(DEF_dummy[0])))==1)\n"
      ],
      "metadata": {
        "id": "Mu-kAjke263k",
        "colab": {
          "base_uri": "https://localhost:8080/"
        },
        "outputId": "52beffc5-bff9-4ec8-a895-fc4fa52a7ee1"
      },
      "execution_count": 36,
      "outputs": [
        {
          "output_type": "execute_result",
          "data": {
            "text/plain": [
              "<ortools.linear_solver.pywraplp.Constraint; proxy of <Swig Object of type 'operations_research::MPConstraint *' at 0x7fac8052bea0> >"
            ]
          },
          "metadata": {},
          "execution_count": 36
        }
      ]
    },
    {
      "cell_type": "code",
      "source": [
        "solver.Add(sum(QB_dummy[0][i]*QB.at[i, 'Price'] for i in range(len(QB)))+\n",
        "                sum(RB_dummy[0][i]*RB.at[i, 'Price'] for i in range(len(RB)))+\n",
        "                sum(RB_dummy[1][i]*RB.at[i, 'Price'] for i in range(len(RB)))+\n",
        "                \n",
        "                sum(WR_dummy[0][i]*WR.at[i, 'Price'] for i in range(len(WR)))+             \n",
        "                sum(WR_dummy[1][i]*WR.at[i, 'Price'] for i in range(len(WR)))+\n",
        "                sum(WR_dummy[2][i]*WR.at[i, 'Price'] for i in range(len(WR)))+\n",
        "           \n",
        "                sum(TE_dummy[0][i]*TE.at[i, 'Price'] for i in range(len(TE)))+\n",
        "                sum(K_dummy[0][i]*K.at[i, 'Price'] for i in range(len(K)))+\n",
        "                sum(DEF_dummy[0][i]*DEF.at[i, 'Price'] for i in range(len(DEF)))+\n",
        "                \n",
        "                              \n",
        "                sum(QB_dummy[1][i]*QB.at[i, 'Price'] for i in range(len(QB)))+\n",
        "                sum(WR_dummy[3][i]*WR.at[i, 'Price'] for i in range(len(WR)))+\n",
        "                sum(RB_dummy[2][i]*RB.at[i, 'Price'] for i in range(len(RB)))+\n",
        "                sum(TE_dummy[1][i]*TE.at[i, 'Price'] for i in range(len(TE)))+\n",
        "                #sum(K_dummy[1][i]*K.at[i, 'Price'] for i in range(len(K)))+\n",
        "                sum(DEF_dummy[1][i]*DEF.at[i, 'Price'] for i in range(len(DEF)))<=200)\n"
      ],
      "metadata": {
        "colab": {
          "base_uri": "https://localhost:8080/"
        },
        "id": "6Wn_9XZ13I-b",
        "outputId": "d7cfcf10-a9f8-4840-bc99-5e9648f908b9"
      },
      "execution_count": 46,
      "outputs": [
        {
          "output_type": "execute_result",
          "data": {
            "text/plain": [
              "<ortools.linear_solver.pywraplp.Constraint; proxy of <Swig Object of type 'operations_research::MPConstraint *' at 0x7fac8014c300> >"
            ]
          },
          "metadata": {},
          "execution_count": 46
        }
      ]
    },
    {
      "cell_type": "code",
      "source": [
        "# SUM OF ALL PPL <= 15 \n",
        "solver.Add(sum(QB_dummy[0][i] for i in range(len(QB_dummy[0])))+sum(QB_dummy[1][i] for i in range(len(QB_dummy[1])))+\n",
        "           sum(TE_dummy[0][i] for i in range(len(TE_dummy[0])))+sum(TE_dummy[1][i] for i in range(len(TE_dummy[1])))+\n",
        "           sum(K_dummy[0][i] for i in range(len(K_dummy[0])))+sum(K_dummy[1][i] for i in range(len(K_dummy[1])))+\n",
        "           sum(DEF_dummy[0][i] for i in range(len(DEF_dummy[0])))+sum(DEF_dummy[1][i] for i in range(len(DEF_dummy[1])))+\n",
        "           sum(WR_dummy[0][i] for i in range(len(WR_dummy[0])))+\n",
        "            sum(WR_dummy[1][i] for i in range(len(WR_dummy[1])))+\n",
        "            sum(WR_dummy[2][i] for i in range(len(WR_dummy[2])))+\n",
        "            sum(WR_dummy[3][i] for i in range(len(WR_dummy[3])))+\n",
        "           sum(RB_dummy[0][i] for i in range(len(RB_dummy[0])))+\n",
        "               sum(RB_dummy[1][i] for i in range(len(RB_dummy[1])))+\n",
        "                  sum(RB_dummy[2][i] for i in range(len(RB_dummy[2])))<=15)"
      ],
      "metadata": {
        "colab": {
          "base_uri": "https://localhost:8080/"
        },
        "id": "HwLaR6ZV2ZEz",
        "outputId": "cfda481c-c8e4-4245-d163-c4465c139e5a"
      },
      "execution_count": 47,
      "outputs": [
        {
          "output_type": "execute_result",
          "data": {
            "text/plain": [
              "<ortools.linear_solver.pywraplp.Constraint; proxy of <Swig Object of type 'operations_research::MPConstraint *' at 0x7fac801dd330> >"
            ]
          },
          "metadata": {},
          "execution_count": 47
        }
      ]
    },
    {
      "cell_type": "code",
      "source": [
        "# these constraints make sure proper number \n",
        "QB_dummy[0][0], QB_dummy[0][1]\n",
        "QB_dummy[0][1], QB_dummy[0][1]\n",
        "\n",
        "for i in range(len(QB)):\n",
        "  solver.Add(QB_dummy[0][i] + QB_dummy[1][i] <=1)\n",
        "for i in range(len(TE)):\n",
        "  solver.Add(TE_dummy[0][i] + TE_dummy[1][i] <=1)\n",
        "for i in range(len(K)):\n",
        "  solver.Add(K_dummy[0][i] + K_dummy[1][i] <=1) \n",
        "for i in range(len(DEF)):\n",
        "  solver.Add(DEF_dummy[0][i] + DEF_dummy[1][i] <=1) \n",
        "\n",
        "# WR \n",
        "for i in range(len(WR)):\n",
        "  solver.Add(WR_dummy[0][i] + WR_dummy[1][i] + WR_dummy[2][i]+WR_dummy[3][i]<=1)\n",
        "             \n",
        "#RB\n",
        "for i in range(len(RB)):\n",
        "  solver.Add(RB_dummy[0][i] + RB_dummy[1][i] + RB_dummy[2][i]<=1) \n"
      ],
      "metadata": {
        "id": "E6lt7pwZ5GN1"
      },
      "execution_count": 48,
      "outputs": []
    },
    {
      "cell_type": "code",
      "source": [
        "status = solver.Solve()\n",
        "\n",
        "priceCount = 0\n",
        "\n",
        "if status == pywraplp.Solver.OPTIMAL:\n",
        "  for col in range(len(QB_dummy)): # column \n",
        "    for plDummy in range(len(QB)):\n",
        "      if QB_dummy[col][plDummy].solution_value() > 0: \n",
        "        if col == 0:\n",
        "          print(\"Starter QB: \", QB_dummy[col][plDummy], \"Fantasy_Points:\",QB.at[plDummy, 'ProjectedPoints'],\"Price: \", QB.at[plDummy, \"Price\"])\n",
        "        else:\n",
        "          priceCount += QB.at[plDummy, \"Price\"]\n",
        "          print(\"Backup QB: \", QB_dummy[col][plDummy], \"Fantasy_Points:\",QB.at[plDummy, 'ProjectedPoints'],\"Price: \", QB.at[plDummy, \"Price\"])\n",
        "\n",
        "  for col in range(len(TE_dummy)): # column \n",
        "    for plDummy in range(len(TE)):\n",
        "      if TE_dummy[col][plDummy].solution_value() > 0: \n",
        "        if col == 0:\n",
        "          priceCount += QB.at[plDummy, \"Price\"]\n",
        "          print(\"Starter TE: \", TE_dummy[col][plDummy], \"Fantasy_Points:\",TE.at[plDummy, 'ProjectedPoints'],\"Price: \", TE.at[plDummy, \"Price\"])\n",
        "        else:\n",
        "          print(\"Backup TE: \", TE_dummy[col][plDummy], \"Fantasy_Points:\",TE.at[plDummy, 'ProjectedPoints'],\"Price: \", TE.at[plDummy, \"Price\"])\n",
        "  for col in range(len(K_dummy)): # column \n",
        "    for plDummy in range(len(K)):\n",
        "      if K_dummy[col][plDummy].solution_value() > 0: \n",
        "        if col == 0:\n",
        "          priceCount += QB.at[plDummy, \"Price\"]\n",
        "          print(\"Starter K: \", K_dummy[col][plDummy], \"Fantasy_Points:\",K.at[plDummy, 'ProjectedPoints'],\"Price: \", K.at[plDummy, \"Price\"])\n",
        "        else:\n",
        "          priceCount += QB.at[plDummy, \"Price\"]\n",
        "          print(\"Backup K: \", K_dummy[col][plDummy], \"Fantasy_Points:\",K.at[plDummy, 'ProjectedPoints'],\"Price: \", K.at[plDummy, \"Price\"])\n",
        "  for col in range(len(DEF_dummy)): # column \n",
        "    for plDummy in range(len(DEF)):\n",
        "      if DEF_dummy[col][plDummy].solution_value() > 0: \n",
        "        if col == 0:\n",
        "          priceCount += QB.at[plDummy, \"Price\"]\n",
        "          print(\"Starter DEF: \", DEF_dummy[col][plDummy], \"Fantasy_Points:\",DEF.at[plDummy, 'ProjectedPoints'],\"Price: \", DEF.at[plDummy, \"Price\"])\n",
        "        else:\n",
        "          priceCount += QB.at[plDummy, \"Price\"]\n",
        "          print(\"Backup DEF: \", DEF_dummy[col][plDummy], \"Fantasy_Points:\",DEF.at[plDummy, 'ProjectedPoints'],\"Price: \", DEF.at[plDummy, \"Price\"])\n",
        "\n",
        "  for col in range(len(WR_dummy)): # column \n",
        "    for plDummy in range(len(WR)):\n",
        "      if WR_dummy[col][plDummy].solution_value() > 0: \n",
        "        if col > 2:\n",
        "          priceCount += QB.at[plDummy, \"Price\"]\n",
        "          print(\"Backup WR: \", WR_dummy[col][plDummy], \"Fantasy_Points:\",WR.at[plDummy, 'ProjectedPoints'],\"Price: \", WR.at[plDummy, \"Price\"])\n",
        "        else:\n",
        "          priceCount += QB.at[plDummy, \"Price\"]\n",
        "          print(\"Starter WR: \", WR_dummy[col][plDummy], \"Fantasy_Points:\",WR.at[plDummy, 'ProjectedPoints'],\"Price: \", WR.at[plDummy, \"Price\"])\n",
        "  \n",
        "  for col in range(len(RB_dummy)): # column \n",
        "    for plDummy in range(len(RB)):\n",
        "      if RB_dummy[col][plDummy].solution_value() > 0: \n",
        "        if col > 1:\n",
        "          priceCount += QB.at[plDummy, \"Price\"]\n",
        "          print(\"Backup RB: \", RB_dummy[col][plDummy], \"Fantasy_Points:\",RB.at[plDummy, 'ProjectedPoints'],\"Price: \", RB.at[plDummy, \"Price\"])\n",
        "        else:\n",
        "          priceCount += QB.at[plDummy, \"Price\"]\n",
        "          print(\"Starter RB: \", RB_dummy[col][plDummy], \"Fantasy_Points:\",RB.at[plDummy, 'ProjectedPoints'],\"Price: \", RB.at[plDummy, \"Price\"])\n",
        "\n",
        "  print(\"Maximum Fantasy Score: \",solver.Objective().Value())\n",
        "\n",
        "print(\"price count: \", priceCount)"
      ],
      "metadata": {
        "colab": {
          "base_uri": "https://localhost:8080/"
        },
        "id": "0SirJ5Cv3sk6",
        "outputId": "3ad4c036-445c-4ce1-8d59-2bf316ab5553"
      },
      "execution_count": 59,
      "outputs": [
        {
          "output_type": "stream",
          "name": "stdout",
          "text": [
            "Starter QB:  Cam Newton0 Fantasy_Points: 278.8 Price:  16.6\n",
            "Backup QB:  Tyrod Taylor1 Fantasy_Points: 255.8 Price:  5.1\n",
            "Starter TE:  Rob Gronkowski0 Fantasy_Points: 146.0 Price:  35.9\n",
            "Backup TE:  Coby Fleener1 Fantasy_Points: 81.7 Price:  1.6\n",
            "Starter K:  Justin Tucker0 Fantasy_Points: 147.0 Price:  9.2\n",
            "Starter DEF:  Denver Broncos0 Fantasy_Points: 129.0 Price:  7.6\n",
            "Starter WR:  Michael Crabtree0 Fantasy_Points: 130.9 Price:  18.3\n",
            "Starter WR:  Julio Jones1 Fantasy_Points: 187.8 Price:  51.3\n",
            "Starter WR:  Emmanuel Sanders2 Fantasy_Points: 125.7 Price:  15.2\n",
            "Starter RB:  C.J. Anderson0 Fantasy_Points: 128.8 Price:  7.9\n",
            "Starter RB:  Ty Montgomery1 Fantasy_Points: 140.9 Price:  14.9\n",
            "Backup RB:  Terrance West2 Fantasy_Points: 120.1 Price:  5.5\n",
            "Backup RB:  Spencer Ware2 Fantasy_Points: 115.5 Price:  4.3\n",
            "Backup RB:  Matt Forte2 Fantasy_Points: 112.2 Price:  3.5\n",
            "Backup RB:  Jonathan Stewart2 Fantasy_Points: 111.7 Price:  2.9\n",
            "Maximum Fantasy Score:  1813.4\n",
            "price count:  195.3\n"
          ]
        }
      ]
    },
    {
      "cell_type": "code",
      "source": [
        ""
      ],
      "metadata": {
        "id": "BxsWEhMzFWsl"
      },
      "execution_count": null,
      "outputs": []
    }
  ]
}